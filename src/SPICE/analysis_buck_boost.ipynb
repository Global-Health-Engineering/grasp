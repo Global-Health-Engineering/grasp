{
 "cells": [
  {
   "cell_type": "code",
   "execution_count": 1,
   "id": "a569a4ce-ef59-4894-bd34-07702881c11e",
   "metadata": {},
   "outputs": [],
   "source": [
    "import pandas as pd"
   ]
  },
  {
   "cell_type": "code",
   "execution_count": 15,
   "id": "21d3cf6c",
   "metadata": {},
   "outputs": [
    {
     "name": "stdout",
     "output_type": "stream",
     "text": [
      "time\tV(n003)\n"
     ]
    }
   ],
   "source": [
    "with open('/Users/nicolas/Documents/GitHub/grasp/src/SPICE/buck_boost_test_pmos.txt', 'r') as file:\n",
    "    lines = file.readlines()\n",
    "    for line in lines:\n",
    "        print(line.strip())\n",
    "        break"
   ]
  },
  {
   "cell_type": "code",
   "execution_count": 16,
   "id": "060b48c3",
   "metadata": {},
   "outputs": [
    {
     "name": "stdout",
     "output_type": "stream",
     "text": [
      "None\n"
     ]
    }
   ],
   "source": [
    "import re\n",
    "import pandas as pd\n",
    "\n",
    "# Define the pattern to match \"Step Information: D=\" followed by characters until \"M\"\n",
    "pattern = r\"Step Information: D=(.*?)m\"\n",
    "\n",
    "# Initialize lists to store matched values and last numerical values\n",
    "matched_values = []\n",
    "last_values = []\n",
    "\n",
    "# Search for the pattern in the lines\n",
    "for i, line in enumerate(lines):\n",
    "    match = re.search(pattern, line)\n",
    "    if match:\n",
    "        matched_value = match.group(1)\n",
    "        matched_values.append(matched_value)\n",
    "        \n",
    "        # Get the last numerical value from the previous line\n",
    "        previous_line = lines[i - 1].strip()\n",
    "        last_value = previous_line.split()[-1]\n",
    "        last_values.append(last_value)\n",
    "\n",
    "# Create a dataframe to log the values\n",
    "df_log = pd.DataFrame({\n",
    "    'Matched Value': matched_values,\n",
    "    'Last Numerical Value': last_values\n",
    "})\n",
    "\n",
    "# Shift the 'Matched Value' column by 1\n",
    "df_log['Matched Value'] = df_log['Matched Value'].shift(1)\n",
    "\n",
    "print(df_log.drop(0).to_csv('buck_boost_test_pmos.csv', index=False))"
   ]
  },
  {
   "cell_type": "code",
   "execution_count": null,
   "id": "81616b4e",
   "metadata": {},
   "outputs": [],
   "source": []
  }
 ],
 "metadata": {
  "kernelspec": {
   "display_name": "analysis",
   "language": "python",
   "name": "python3"
  },
  "language_info": {
   "codemirror_mode": {
    "name": "ipython",
    "version": 3
   },
   "file_extension": ".py",
   "mimetype": "text/x-python",
   "name": "python",
   "nbconvert_exporter": "python",
   "pygments_lexer": "ipython3",
   "version": "3.12.3"
  }
 },
 "nbformat": 4,
 "nbformat_minor": 5
}
